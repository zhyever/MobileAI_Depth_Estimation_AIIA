{
  "nbformat": 4,
  "nbformat_minor": 0,
  "metadata": {
    "kernelspec": {
      "display_name": "Python 3",
      "language": "python",
      "name": "python3"
    },
    "language_info": {
      "codemirror_mode": {
        "name": "ipython",
        "version": 3
      },
      "file_extension": ".py",
      "mimetype": "text/x-python",
      "name": "python",
      "nbconvert_exporter": "python",
      "pygments_lexer": "ipython3",
      "version": "3.7.3"
    },
    "colab": {
      "name": "example.ipynb",
      "provenance": [],
      "collapsed_sections": []
    }
  },
  "cells": [
    {
      "cell_type": "markdown",
      "metadata": {
        "colab_type": "text",
        "id": "ywj1qEt3-lLC"
      },
      "source": [
        "##### Copyright 2020 Google LLC.\n",
        "\n",
        "\n",
        "Licensed under the Apache License, Version 2.0 (the \"License\");\n",
        "you may not use this file except in compliance with the License.\n",
        "You may obtain a copy of the License at\n",
        "\n",
        "    https://www.apache.org/licenses/LICENSE-2.0\n",
        "\n",
        "Unless required by applicable law or agreed to in writing, software\n",
        "distributed under the License is distributed on an \"AS IS\" BASIS,\n",
        "WITHOUT WARRANTIES OR CONDITIONS OF ANY KIND, either express or implied.\n",
        "See the License for the specific language governing permissions and\n",
        "limitations under the License."
      ]
    },
    {
      "cell_type": "code",
      "metadata": {
        "id": "_9XMWz7ir3dX",
        "colab_type": "code",
        "colab": {}
      },
      "source": [
        "import numpy as np\n",
        "import tensorflow as tf\n",
        "import matplotlib.pyplot as plt\n",
        "\n",
        "# NOTE: Due to the constraints of the /google_research/ repo, this package is\n",
        "# assumes that it is being called from the folder above this one. Because\n",
        "# of this, this notebook needs modify the system path to include the path\n",
        "# above it. This should not be necessary when using this library elsewhere\n",
        "import os\n",
        "import sys\n",
        "module_path = os.path.abspath(os.path.join('..'))\n",
        "if module_path not in sys.path:\n",
        "  sys.path.append(module_path)\n",
        "import robust_loss.general\n",
        "import robust_loss.adaptive\n",
        "\n",
        "# Construct some regression data with some extreme outliers.\n",
        "np.random.seed(1)\n",
        "n = 50\n",
        "scale_true = 0.7\n",
        "shift_true = 0.15\n",
        "x = np.random.uniform(size=n)\n",
        "y = scale_true * x + shift_true\n",
        "y += np.random.normal(scale=0.025, size=n)\n",
        "flip_mask = np.random.uniform(size=n) > 0.9\n",
        "y = np.where(flip_mask, 0.05 + 0.4 * (1. - np.sign(y - 0.5)), y)\n",
        "\n",
        "x = tf.convert_to_tensor(x, tf.float32)\n",
        "y = tf.convert_to_tensor(y, tf.float32)\n",
        "\n",
        "\n",
        "class RegressionModel(tf.Module):\n",
        "  # A simple linear regression module.\n",
        "  def __init__(self):\n",
        "    self.w = tf.Variable(0.)\n",
        "    self.b = tf.Variable(0.)\n",
        "\n",
        "  def __call__(self, z):\n",
        "    return self.w * z + self.b\n",
        "\n",
        "\n",
        "def plot_regression(regression):\n",
        "  # A helper function for plotting a regression module.\n",
        "  x_plot = np.float32(np.linspace(0, 1, 100))\n",
        "  y_plot = regression(tf.convert_to_tensor(x_plot)).numpy()\n",
        "  y_plot_true = x_plot * scale_true + shift_true\n",
        "\n",
        "  plt.figure(0, figsize=(4, 4))\n",
        "  plt.scatter(x, y)\n",
        "  plt.plot(x_plot, y_plot_true, color='k')\n",
        "  plt.plot(x_plot, y_plot, color='r')"
      ],
      "execution_count": 0,
      "outputs": []
    },
    {
      "cell_type": "code",
      "metadata": {
        "id": "WrFNwRlbr3da",
        "colab_type": "code",
        "outputId": "33ce112e-cbb4-42c2-ce67-0b371d910c29",
        "colab": {}
      },
      "source": [
        "# Fit a linear regression using mean squared error.\n",
        "regression = RegressionModel()\n",
        "variables = regression.trainable_variables\n",
        "optimizer = tf.keras.optimizers.Adam(\n",
        "    learning_rate=0.01, beta_1=0.5, beta_2=0.9, epsilon=1e-08)\n",
        "\n",
        "for epoch in range(1001):\n",
        "\n",
        "  def lossfun():\n",
        "    # Hijacking the general loss to compute MSE.\n",
        "    return tf.reduce_mean(\n",
        "        robust_loss.general.lossfun(y - regression(x), alpha=2., scale=0.1))\n",
        "\n",
        "  optimizer.minimize(lossfun, variables)\n",
        "  if np.mod(epoch, 50) == 0:\n",
        "    print('{:<4}: loss={:0.5f}'.format(epoch, lossfun()))\n",
        "\n",
        "# It doesn't fit well.\n",
        "plot_regression(regression)"
      ],
      "execution_count": 0,
      "outputs": [
        {
          "output_type": "stream",
          "text": [
            "0   : loss=13.92873\n",
            "50  : loss=1.78875\n",
            "100 : loss=1.67389\n",
            "150 : loss=1.67370\n",
            "200 : loss=1.67375\n",
            "250 : loss=1.67372\n",
            "300 : loss=1.67424\n",
            "350 : loss=1.67373\n",
            "400 : loss=1.67391\n",
            "450 : loss=1.67377\n",
            "500 : loss=1.67382\n",
            "550 : loss=1.67370\n",
            "600 : loss=1.67370\n",
            "650 : loss=1.67370\n",
            "700 : loss=1.67521\n",
            "750 : loss=1.67386\n",
            "800 : loss=1.67425\n",
            "850 : loss=1.67382\n",
            "900 : loss=1.67464\n",
            "950 : loss=1.67372\n",
            "1000: loss=1.67403\n"
          ],
          "name": "stdout"
        },
        {
          "output_type": "display_data",
          "data": {
            "image/png": "[encoded data removed]",
            "text/plain": [
              "<Figure size 288x288 with 1 Axes>"
            ]
          },
          "metadata": {
            "tags": [],
            "needs_background": "light"
          }
        }
      ]
    },
    {
      "cell_type": "code",
      "metadata": {
        "id": "JxKjAb2Cr3dd",
        "colab_type": "code",
        "outputId": "20fad39a-9d49-495f-f7cc-68284b5e5e64",
        "colab": {}
      },
      "source": [
        "# Fit a linear regression, and the parameters of an adaptive loss.\n",
        "regression = RegressionModel()\n",
        "adaptive_lossfun = (\n",
        "    robust_loss.adaptive.AdaptiveLossFunction(\n",
        "        num_channels=1, float_dtype=np.float32))\n",
        "variables = (\n",
        "    list(regression.trainable_variables) +\n",
        "    list(adaptive_lossfun.trainable_variables))\n",
        "optimizer = tf.keras.optimizers.Adam(\n",
        "    learning_rate=0.01, beta_1=0.5, beta_2=0.9, epsilon=1e-08)\n",
        "\n",
        "for epoch in range(1001):\n",
        "\n",
        "  def lossfun():\n",
        "    # Stealthily unsqueeze to an (n,1) matrix, and then compute the loss.\n",
        "    # A matrix with this shape corresponds to a loss where there's one shape\n",
        "    # and scale parameter per dimension (and there's only one dimension for\n",
        "    # this data).\n",
        "    return tf.reduce_mean(adaptive_lossfun((y - regression(x))[:, None]))\n",
        "\n",
        "  optimizer.minimize(lossfun, variables)\n",
        "  if np.mod(epoch, 50) == 0:\n",
        "    loss = lossfun()\n",
        "    alpha = adaptive_lossfun.alpha()[0, 0]\n",
        "    scale = adaptive_lossfun.scale()[0, 0]\n",
        "    print('{:<4}: loss={:+0.5f}  alpha={:0.5f}  scale={:0.5f}'.format(\n",
        "        epoch, loss, alpha, scale))\n",
        "\n",
        "# It fits!\n",
        "plot_regression(regression)"
      ],
      "execution_count": 0,
      "outputs": [
        {
          "output_type": "stream",
          "text": [
            "0   : loss=+1.30600  alpha=1.00500  scale=0.99369\n",
            "50  : loss=+0.81370  alpha=1.24806  scale=0.69965\n",
            "100 : loss=+0.41574  alpha=1.46083  scale=0.47681\n",
            "150 : loss=+0.03641  alpha=1.62745  scale=0.31602\n",
            "200 : loss=-0.25180  alpha=1.73791  scale=0.20793\n",
            "250 : loss=-0.37724  alpha=1.64325  scale=0.14308\n",
            "300 : loss=-0.45471  alpha=1.44397  scale=0.11082\n",
            "350 : loss=-0.55913  alpha=1.20640  scale=0.08612\n",
            "400 : loss=-0.71528  alpha=0.94550  scale=0.06072\n",
            "450 : loss=-0.91360  alpha=0.69710  scale=0.04031\n",
            "500 : loss=-1.11517  alpha=0.49126  scale=0.02743\n",
            "550 : loss=-1.27192  alpha=0.33634  scale=0.02091\n",
            "600 : loss=-1.37283  alpha=0.22587  scale=0.01729\n",
            "650 : loss=-1.43477  alpha=0.14965  scale=0.01529\n",
            "700 : loss=-1.47247  alpha=0.09828  scale=0.01377\n",
            "750 : loss=-1.49214  alpha=0.06422  scale=0.01310\n",
            "800 : loss=-1.50190  alpha=0.04189  scale=0.01264\n",
            "850 : loss=-1.50135  alpha=0.02733  scale=0.01239\n",
            "900 : loss=-1.50108  alpha=0.01790  scale=0.01227\n",
            "950 : loss=-1.51328  alpha=0.01181  scale=0.01207\n",
            "1000: loss=-1.51522  alpha=0.00789  scale=0.01212\n"
          ],
          "name": "stdout"
        },
        {
          "output_type": "display_data",
          "data": {
            "image/png": "[encoded data removed]",
            "text/plain": [
              "<Figure size 288x288 with 1 Axes>"
            ]
          },
          "metadata": {
            "tags": [],
            "needs_background": "light"
          }
        }
      ]
    }
  ]
}